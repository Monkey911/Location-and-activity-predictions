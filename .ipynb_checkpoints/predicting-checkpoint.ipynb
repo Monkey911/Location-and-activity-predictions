{
 "cells": [
  {
   "cell_type": "markdown",
   "metadata": {},
   "source": [
    "Reading in the data"
   ]
  },
  {
   "cell_type": "code",
   "execution_count": 66,
   "metadata": {
    "collapsed": false
   },
   "outputs": [],
   "source": [
    "import pandas as pd\n",
    "\n",
    "env_data =pd.read_csv(\"C:/kool/thesis/sphere_1m_env/ENV_labeled_dates_edited.csv\", index_col = 0)\n",
    "env_data['datetime'] =  pd.to_datetime(env_data['datetime'], format=\"%Y-%m-%d %H:%M:%S\")\n",
    "\n",
    "device_locations = {\n",
    "    'fd00::212:4b00:0:80' : 'lounge',\n",
    "    'fd00::212:4b00:0:81' : 'study',\n",
    "    'fd00::212:4b00:0:82' : 'kitchen',\n",
    "    'fd00::212:4b00:0:83' : 'hall',\n",
    "    'fd00::212:4b00:0:84' : 'bedroom',\n",
    "    'fd00::212:4b00:0:85' : 'bedroom2',\n",
    "    'fd00::212:4b00:0:86' : 'bathroom',\n",
    "    'fd00::212:4b00:0:87' : 'landing'\n",
    "}"
   ]
  },
  {
   "cell_type": "markdown",
   "metadata": {},
   "source": [
    "Here are usufeul functions:"
   ]
  },
  {
   "cell_type": "code",
   "execution_count": 67,
   "metadata": {
    "collapsed": false
   },
   "outputs": [],
   "source": [
    "from datetime import datetime, timedelta\n",
    "from collections import deque\n",
    "import time\n",
    "\n",
    "def filterDatetime(data, start, end):\n",
    "    if not isinstance(start, datetime):\n",
    "        start = datetime.strptime(start, \"%Y-%m-%d %H:%M:%S\")\n",
    "    if not isinstance(end, datetime):\n",
    "        end = datetime.strptime(end, \"%Y-%m-%d %H:%M:%S\")\n",
    "    return data[(data.datetime >= start) & (data.datetime <= end)]\n",
    "\n",
    "\"\"\"\n",
    "Sisuliselt tuleb vaadata kas andtud tee on loogiline. (teleport ei ole kindlasti võimalik). Ilmselt tuleb veenduda, \n",
    "kas vahepealsed ruumid on märkamata jäänud või siis uus signaal on vigane\n",
    "\"\"\"\n",
    "def getLocationPredictions(data):\n",
    "    data = data.sort_values([\"datetime\"], ascending=True)\n",
    "    detections = deque([], 50)         # I keep holding here 50 pir detections so I can check what happened some moments ago\n",
    "    device_and_time = []\n",
    "    \n",
    "            \n",
    "    return device_and_time\n",
    "\n",
    "\n",
    "def locationResults(data, start, end):\n",
    "    #start = datetime.strptime(start, \"%Y-%m-%d %H:%M:%S\")    # for finding starting activity\n",
    "    #data_from = start - timedelta(minutes=30)    #starting activity will be added later\n",
    "    data = filterDatetime(data, start, end)\n",
    "    data = data[(data.sensor == \"PIR_TRIGS\") & (data.value == 1)]\n",
    "    predictions = getLocationPredictions(data)\n",
    "    # panen veel esimeseks elemendiks alguse\n",
    "    return predictions\n",
    "\n",
    "def showLocationResults(results):\n",
    "    for result in results:\n",
    "        print(str(result[1]) + \" : \" + device_locations[result[0]])\n",
    "    "
   ]
  },
  {
   "cell_type": "code",
   "execution_count": 68,
   "metadata": {
    "collapsed": false
   },
   "outputs": [
    {
     "name": "stdout",
     "output_type": "stream",
     "text": [
      "2017-04-30 09:43:30 : bedroom\n",
      "2017-04-30 09:46:38 : landing\n",
      "2017-04-30 09:49:49 : bedroom\n",
      "2017-04-30 09:50:09 : landing\n",
      "2017-04-30 09:50:16 : hall\n",
      "2017-04-30 09:50:27 : kitchen\n",
      "2017-04-30 10:01:21 : hall\n",
      "2017-04-30 10:01:25 : lounge\n",
      "2017-04-30 10:01:37 : kitchen\n",
      "2017-04-30 10:01:49 : hall\n",
      "2017-04-30 10:01:53 : lounge\n",
      "2017-04-30 10:04:14 : hall\n",
      "2017-04-30 10:04:18 : landing\n",
      "2017-04-30 10:04:23 : bedroom\n",
      "2017-04-30 10:04:35 : landing\n",
      "2017-04-30 10:04:41 : hall\n",
      "2017-04-30 10:05:27 : lounge\n",
      "2017-04-30 10:16:06 : kitchen\n",
      "2017-04-30 10:17:03 : hall\n",
      "2017-04-30 10:17:09 : lounge\n"
     ]
    }
   ],
   "source": [
    "predict_from = \"2017-04-30 9:00:00\"\n",
    "predict_to = \"2017-04-30 11:00:00\"\n",
    "\n",
    "results = locationResults(env_data, predict_from, predict_to)\n",
    "showLocationResults(results)\n",
    "#data = filterDatetime(env_data, data_from, data_to)\n",
    "#data = data[data.sensor == 'PIR_TRIGS']\n",
    "\n",
    "#predict_from = datetime.strptime(predict_from, \"%Y-%m-%d %H:%M:%S\")\n",
    "\n",
    "#data = data.sort_values([\"datetime\"], ascending=True)\n",
    "#data.head(20)\n",
    "#d = predict_from - timedelta(hours=0, minutes=50)\n",
    "#d"
   ]
  },
  {
   "cell_type": "markdown",
   "metadata": {
    "collapsed": true
   },
   "source": [
    "kontrollin kas eelmine device on sama\n",
    "kui on siis ei tee midagi\n",
    "kui ei ole, siis vaatan, kas sobiv asukoha muutus on okei\n",
    "kui on okei, siis lisan\n",
    "kui ei ole okei, siis üritan välja selgitada, kuidas asi võiks reaalselt olla.\n",
    "        \n",
    "võtan mingi tingimuse muutuja?\n",
    "kui on kõik ok, siis teen tavalist loogikat\n",
    "kui ei ole okei, siis eeldan, et eelnevalt oli kõik tore ja üritan edasi kõige loogilisemat varianti leida.\n",
    "\n"
   ]
  },
  {
   "cell_type": "code",
   "execution_count": null,
   "metadata": {
    "collapsed": true
   },
   "outputs": [],
   "source": [
    "from datetime import datetime, timedelta\n",
    "from collections import deque\n",
    "import time\n",
    "\n",
    "def filterDatetime(data, start, end):\n",
    "    if not isinstance(start, datetime):\n",
    "        start = datetime.strptime(start, \"%Y-%m-%d %H:%M:%S\")\n",
    "    if not isinstance(end, datetime):\n",
    "        end = datetime.strptime(end, \"%Y-%m-%d %H:%M:%S\")\n",
    "    return data[(data.datetime >= start) & (data.datetime <= end)]\n",
    "\n",
    "\"\"\"\n",
    "Sisuliselt tuleb vaadata kas andtud tee on loogiline. (teleport ei ole kindlasti võimalik). Ilmselt tuleb veenduda, \n",
    "kas vahepealsed ruumid on märkamata jäänud või siis uus signaal on vigane\n",
    "\"\"\"\n",
    "def getLocationPredictions(data):\n",
    "    data = data.sort_values([\"datetime\"], ascending=True)\n",
    "    detections = deque([], 50)         # I keep holding here 50 pir detections so I can check what happened some moments ago\n",
    "    device_and_time = []\n",
    "    \n",
    "    # Holding in memory what was the last device that I put into the results\n",
    "    previous_result_device = None    \n",
    "    # Holding in memory last detected device (will consider it as true detection if it was detected at least twice in a row)\n",
    "    previous_device = None       \n",
    "    previous_device_time = None\n",
    "    for index, row in data.iterrows():\n",
    "        dt = row[\"datetime\"]\n",
    "        device = row[\"device_id\"]\n",
    "        detections.append([device, dt])\n",
    "        \n",
    "        if (device != previous_result_device and device == previous_device):   # new location detected\n",
    "            device_and_time.append([device, previous_device_time])\n",
    "            previous_result_device = device\n",
    "        \n",
    "        if previous_device!= device:# device change detected for the first time (2 detections needed for \"location detection\")\n",
    "            previous_device = device\n",
    "            previous_device_time = dt\n",
    "            \n",
    "    return device_and_time\n",
    "\n",
    "\n",
    "def locationResults(data, start, end):\n",
    "    #start = datetime.strptime(start, \"%Y-%m-%d %H:%M:%S\")    # for finding starting activity\n",
    "    #data_from = start - timedelta(minutes=30)    #starting activity will be added later\n",
    "    data = filterDatetime(data, start, end)\n",
    "    data = data[(data.sensor == \"PIR_TRIGS\") & (data.value == 1)]\n",
    "    predictions = getLocationPredictions(data)\n",
    "    # panen veel esimeseks elemendiks alguse\n",
    "    return predictions\n",
    "\n",
    "def showLocationResults(results):\n",
    "    for result in results:\n",
    "        print(str(result[1]) + \" : \" + device_locations[result[0]])\n",
    "    "
   ]
  }
 ],
 "metadata": {
  "kernelspec": {
   "display_name": "Python 3",
   "language": "python",
   "name": "python3"
  },
  "language_info": {
   "codemirror_mode": {
    "name": "ipython",
    "version": 3
   },
   "file_extension": ".py",
   "mimetype": "text/x-python",
   "name": "python",
   "nbconvert_exporter": "python",
   "pygments_lexer": "ipython3",
   "version": "3.6.0"
  }
 },
 "nbformat": 4,
 "nbformat_minor": 2
}
